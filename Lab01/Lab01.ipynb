{
  "nbformat": 4,
  "nbformat_minor": 0,
  "metadata": {
    "colab": {
      "name": "Lab01.ipynb",
      "provenance": [],
      "authorship_tag": "ABX9TyPZwLEmcJLAobftWC1C6TU+",
      "include_colab_link": true
    },
    "kernelspec": {
      "name": "python3",
      "display_name": "Python 3"
    },
    "language_info": {
      "name": "python"
    }
  },
  "cells": [
    {
      "cell_type": "markdown",
      "metadata": {
        "id": "view-in-github",
        "colab_type": "text"
      },
      "source": [
        "<a href=\"https://colab.research.google.com/github/Trieuvyy3110/DataAnalystDeepLearning/blob/main/Lab01/Lab01.ipynb\" target=\"_parent\"><img src=\"https://colab.research.google.com/assets/colab-badge.svg\" alt=\"Open In Colab\"/></a>"
      ]
    },
    {
      "cell_type": "code",
      "metadata": {
        "colab": {
          "base_uri": "https://localhost:8080/"
        },
        "id": "ByD9tYR-1cj8",
        "outputId": "a71396f1-1cc1-4428-cf70-d853df9c3554"
      },
      "source": [
        "import pandas as pd\n",
        "s = pd.Series([12,-4,7,9])\n",
        "print (s)"
      ],
      "execution_count": 1,
      "outputs": [
        {
          "output_type": "stream",
          "name": "stdout",
          "text": [
            "0    12\n",
            "1    -4\n",
            "2     7\n",
            "3     9\n",
            "dtype: int64\n"
          ]
        }
      ]
    },
    {
      "cell_type": "code",
      "metadata": {
        "colab": {
          "base_uri": "https://localhost:8080/"
        },
        "id": "qaoIIY1b3Z3d",
        "outputId": "ed6a3aa0-ab92-4135-cec1-0fb3d8c8052e"
      },
      "source": [
        "import pandas as pd\n",
        "s = pd.Series([12,-4,7,9], index=['a', 'b', 'c', 'd'])\n",
        "print (s)"
      ],
      "execution_count": 2,
      "outputs": [
        {
          "output_type": "stream",
          "name": "stdout",
          "text": [
            "a    12\n",
            "b    -4\n",
            "c     7\n",
            "d     9\n",
            "dtype: int64\n"
          ]
        }
      ]
    },
    {
      "cell_type": "code",
      "metadata": {
        "colab": {
          "base_uri": "https://localhost:8080/",
          "height": 206
        },
        "id": "IaInnBld3f8N",
        "outputId": "91c4ad40-051c-4cb1-8412-18937ee92607"
      },
      "source": [
        "data ={'color' : ['blue', 'green', 'yellow', 'red', 'white'],\n",
        "\t'object': ['ball', 'pen', 'pencil', 'paper', 'mug'],\n",
        "\t'price': [1.2, 1.0, 0.6,0.9,1.7]}\n",
        "frame = pd.DataFrame(data)\n",
        "frame"
      ],
      "execution_count": 3,
      "outputs": [
        {
          "output_type": "execute_result",
          "data": {
            "text/html": [
              "<div>\n",
              "<style scoped>\n",
              "    .dataframe tbody tr th:only-of-type {\n",
              "        vertical-align: middle;\n",
              "    }\n",
              "\n",
              "    .dataframe tbody tr th {\n",
              "        vertical-align: top;\n",
              "    }\n",
              "\n",
              "    .dataframe thead th {\n",
              "        text-align: right;\n",
              "    }\n",
              "</style>\n",
              "<table border=\"1\" class=\"dataframe\">\n",
              "  <thead>\n",
              "    <tr style=\"text-align: right;\">\n",
              "      <th></th>\n",
              "      <th>color</th>\n",
              "      <th>object</th>\n",
              "      <th>price</th>\n",
              "    </tr>\n",
              "  </thead>\n",
              "  <tbody>\n",
              "    <tr>\n",
              "      <th>0</th>\n",
              "      <td>blue</td>\n",
              "      <td>ball</td>\n",
              "      <td>1.2</td>\n",
              "    </tr>\n",
              "    <tr>\n",
              "      <th>1</th>\n",
              "      <td>green</td>\n",
              "      <td>pen</td>\n",
              "      <td>1.0</td>\n",
              "    </tr>\n",
              "    <tr>\n",
              "      <th>2</th>\n",
              "      <td>yellow</td>\n",
              "      <td>pencil</td>\n",
              "      <td>0.6</td>\n",
              "    </tr>\n",
              "    <tr>\n",
              "      <th>3</th>\n",
              "      <td>red</td>\n",
              "      <td>paper</td>\n",
              "      <td>0.9</td>\n",
              "    </tr>\n",
              "    <tr>\n",
              "      <th>4</th>\n",
              "      <td>white</td>\n",
              "      <td>mug</td>\n",
              "      <td>1.7</td>\n",
              "    </tr>\n",
              "  </tbody>\n",
              "</table>\n",
              "</div>"
            ],
            "text/plain": [
              "    color  object  price\n",
              "0    blue    ball    1.2\n",
              "1   green     pen    1.0\n",
              "2  yellow  pencil    0.6\n",
              "3     red   paper    0.9\n",
              "4   white     mug    1.7"
            ]
          },
          "metadata": {},
          "execution_count": 3
        }
      ]
    },
    {
      "cell_type": "code",
      "metadata": {
        "colab": {
          "base_uri": "https://localhost:8080/",
          "height": 206
        },
        "id": "wUtw85rM3gxe",
        "outputId": "8eb7477f-2e7a-40a0-a50c-55e9ae114a4a"
      },
      "source": [
        "frame2 = pd.DataFrame (data, columns = ['object', 'price'])\n",
        "frame2"
      ],
      "execution_count": 4,
      "outputs": [
        {
          "output_type": "execute_result",
          "data": {
            "text/html": [
              "<div>\n",
              "<style scoped>\n",
              "    .dataframe tbody tr th:only-of-type {\n",
              "        vertical-align: middle;\n",
              "    }\n",
              "\n",
              "    .dataframe tbody tr th {\n",
              "        vertical-align: top;\n",
              "    }\n",
              "\n",
              "    .dataframe thead th {\n",
              "        text-align: right;\n",
              "    }\n",
              "</style>\n",
              "<table border=\"1\" class=\"dataframe\">\n",
              "  <thead>\n",
              "    <tr style=\"text-align: right;\">\n",
              "      <th></th>\n",
              "      <th>object</th>\n",
              "      <th>price</th>\n",
              "    </tr>\n",
              "  </thead>\n",
              "  <tbody>\n",
              "    <tr>\n",
              "      <th>0</th>\n",
              "      <td>ball</td>\n",
              "      <td>1.2</td>\n",
              "    </tr>\n",
              "    <tr>\n",
              "      <th>1</th>\n",
              "      <td>pen</td>\n",
              "      <td>1.0</td>\n",
              "    </tr>\n",
              "    <tr>\n",
              "      <th>2</th>\n",
              "      <td>pencil</td>\n",
              "      <td>0.6</td>\n",
              "    </tr>\n",
              "    <tr>\n",
              "      <th>3</th>\n",
              "      <td>paper</td>\n",
              "      <td>0.9</td>\n",
              "    </tr>\n",
              "    <tr>\n",
              "      <th>4</th>\n",
              "      <td>mug</td>\n",
              "      <td>1.7</td>\n",
              "    </tr>\n",
              "  </tbody>\n",
              "</table>\n",
              "</div>"
            ],
            "text/plain": [
              "   object  price\n",
              "0    ball    1.2\n",
              "1     pen    1.0\n",
              "2  pencil    0.6\n",
              "3   paper    0.9\n",
              "4     mug    1.7"
            ]
          },
          "metadata": {},
          "execution_count": 4
        }
      ]
    },
    {
      "cell_type": "code",
      "metadata": {
        "colab": {
          "base_uri": "https://localhost:8080/",
          "height": 206
        },
        "id": "Rm6uUhhg3oFt",
        "outputId": "5afaea42-be4f-474c-fb6d-b62015053812"
      },
      "source": [
        "frame2['type'] ='normal'\n",
        "frame2"
      ],
      "execution_count": 5,
      "outputs": [
        {
          "output_type": "execute_result",
          "data": {
            "text/html": [
              "<div>\n",
              "<style scoped>\n",
              "    .dataframe tbody tr th:only-of-type {\n",
              "        vertical-align: middle;\n",
              "    }\n",
              "\n",
              "    .dataframe tbody tr th {\n",
              "        vertical-align: top;\n",
              "    }\n",
              "\n",
              "    .dataframe thead th {\n",
              "        text-align: right;\n",
              "    }\n",
              "</style>\n",
              "<table border=\"1\" class=\"dataframe\">\n",
              "  <thead>\n",
              "    <tr style=\"text-align: right;\">\n",
              "      <th></th>\n",
              "      <th>object</th>\n",
              "      <th>price</th>\n",
              "      <th>type</th>\n",
              "    </tr>\n",
              "  </thead>\n",
              "  <tbody>\n",
              "    <tr>\n",
              "      <th>0</th>\n",
              "      <td>ball</td>\n",
              "      <td>1.2</td>\n",
              "      <td>normal</td>\n",
              "    </tr>\n",
              "    <tr>\n",
              "      <th>1</th>\n",
              "      <td>pen</td>\n",
              "      <td>1.0</td>\n",
              "      <td>normal</td>\n",
              "    </tr>\n",
              "    <tr>\n",
              "      <th>2</th>\n",
              "      <td>pencil</td>\n",
              "      <td>0.6</td>\n",
              "      <td>normal</td>\n",
              "    </tr>\n",
              "    <tr>\n",
              "      <th>3</th>\n",
              "      <td>paper</td>\n",
              "      <td>0.9</td>\n",
              "      <td>normal</td>\n",
              "    </tr>\n",
              "    <tr>\n",
              "      <th>4</th>\n",
              "      <td>mug</td>\n",
              "      <td>1.7</td>\n",
              "      <td>normal</td>\n",
              "    </tr>\n",
              "  </tbody>\n",
              "</table>\n",
              "</div>"
            ],
            "text/plain": [
              "   object  price    type\n",
              "0    ball    1.2  normal\n",
              "1     pen    1.0  normal\n",
              "2  pencil    0.6  normal\n",
              "3   paper    0.9  normal\n",
              "4     mug    1.7  normal"
            ]
          },
          "metadata": {},
          "execution_count": 5
        }
      ]
    },
    {
      "cell_type": "code",
      "metadata": {
        "colab": {
          "base_uri": "https://localhost:8080/",
          "height": 206
        },
        "id": "h_PwOllK3qy-",
        "outputId": "f5d8aca5-09c9-4af6-df94-f41ff19c6b9c"
      },
      "source": [
        "for i in range(len(frame2)):\n",
        "  if frame2['price'][i] > 1.0:\n",
        "    frame2.loc[i, 'type'] = 'good'\n",
        "frame2"
      ],
      "execution_count": 6,
      "outputs": [
        {
          "output_type": "execute_result",
          "data": {
            "text/html": [
              "<div>\n",
              "<style scoped>\n",
              "    .dataframe tbody tr th:only-of-type {\n",
              "        vertical-align: middle;\n",
              "    }\n",
              "\n",
              "    .dataframe tbody tr th {\n",
              "        vertical-align: top;\n",
              "    }\n",
              "\n",
              "    .dataframe thead th {\n",
              "        text-align: right;\n",
              "    }\n",
              "</style>\n",
              "<table border=\"1\" class=\"dataframe\">\n",
              "  <thead>\n",
              "    <tr style=\"text-align: right;\">\n",
              "      <th></th>\n",
              "      <th>object</th>\n",
              "      <th>price</th>\n",
              "      <th>type</th>\n",
              "    </tr>\n",
              "  </thead>\n",
              "  <tbody>\n",
              "    <tr>\n",
              "      <th>0</th>\n",
              "      <td>ball</td>\n",
              "      <td>1.2</td>\n",
              "      <td>good</td>\n",
              "    </tr>\n",
              "    <tr>\n",
              "      <th>1</th>\n",
              "      <td>pen</td>\n",
              "      <td>1.0</td>\n",
              "      <td>normal</td>\n",
              "    </tr>\n",
              "    <tr>\n",
              "      <th>2</th>\n",
              "      <td>pencil</td>\n",
              "      <td>0.6</td>\n",
              "      <td>normal</td>\n",
              "    </tr>\n",
              "    <tr>\n",
              "      <th>3</th>\n",
              "      <td>paper</td>\n",
              "      <td>0.9</td>\n",
              "      <td>normal</td>\n",
              "    </tr>\n",
              "    <tr>\n",
              "      <th>4</th>\n",
              "      <td>mug</td>\n",
              "      <td>1.7</td>\n",
              "      <td>good</td>\n",
              "    </tr>\n",
              "  </tbody>\n",
              "</table>\n",
              "</div>"
            ],
            "text/plain": [
              "   object  price    type\n",
              "0    ball    1.2    good\n",
              "1     pen    1.0  normal\n",
              "2  pencil    0.6  normal\n",
              "3   paper    0.9  normal\n",
              "4     mug    1.7    good"
            ]
          },
          "metadata": {},
          "execution_count": 6
        }
      ]
    },
    {
      "cell_type": "code",
      "metadata": {
        "colab": {
          "base_uri": "https://localhost:8080/",
          "height": 206
        },
        "id": "7FEsCy5i3v9P",
        "outputId": "81f58d27-9f54-4c41-8825-7500f65bd786"
      },
      "source": [
        "frame2['discount'] = frame2['price']*0.02\n",
        "frame2\n"
      ],
      "execution_count": 7,
      "outputs": [
        {
          "output_type": "execute_result",
          "data": {
            "text/html": [
              "<div>\n",
              "<style scoped>\n",
              "    .dataframe tbody tr th:only-of-type {\n",
              "        vertical-align: middle;\n",
              "    }\n",
              "\n",
              "    .dataframe tbody tr th {\n",
              "        vertical-align: top;\n",
              "    }\n",
              "\n",
              "    .dataframe thead th {\n",
              "        text-align: right;\n",
              "    }\n",
              "</style>\n",
              "<table border=\"1\" class=\"dataframe\">\n",
              "  <thead>\n",
              "    <tr style=\"text-align: right;\">\n",
              "      <th></th>\n",
              "      <th>object</th>\n",
              "      <th>price</th>\n",
              "      <th>type</th>\n",
              "      <th>discount</th>\n",
              "    </tr>\n",
              "  </thead>\n",
              "  <tbody>\n",
              "    <tr>\n",
              "      <th>0</th>\n",
              "      <td>ball</td>\n",
              "      <td>1.2</td>\n",
              "      <td>good</td>\n",
              "      <td>0.024</td>\n",
              "    </tr>\n",
              "    <tr>\n",
              "      <th>1</th>\n",
              "      <td>pen</td>\n",
              "      <td>1.0</td>\n",
              "      <td>normal</td>\n",
              "      <td>0.020</td>\n",
              "    </tr>\n",
              "    <tr>\n",
              "      <th>2</th>\n",
              "      <td>pencil</td>\n",
              "      <td>0.6</td>\n",
              "      <td>normal</td>\n",
              "      <td>0.012</td>\n",
              "    </tr>\n",
              "    <tr>\n",
              "      <th>3</th>\n",
              "      <td>paper</td>\n",
              "      <td>0.9</td>\n",
              "      <td>normal</td>\n",
              "      <td>0.018</td>\n",
              "    </tr>\n",
              "    <tr>\n",
              "      <th>4</th>\n",
              "      <td>mug</td>\n",
              "      <td>1.7</td>\n",
              "      <td>good</td>\n",
              "      <td>0.034</td>\n",
              "    </tr>\n",
              "  </tbody>\n",
              "</table>\n",
              "</div>"
            ],
            "text/plain": [
              "   object  price    type  discount\n",
              "0    ball    1.2    good     0.024\n",
              "1     pen    1.0  normal     0.020\n",
              "2  pencil    0.6  normal     0.012\n",
              "3   paper    0.9  normal     0.018\n",
              "4     mug    1.7    good     0.034"
            ]
          },
          "metadata": {},
          "execution_count": 7
        }
      ]
    },
    {
      "cell_type": "code",
      "metadata": {
        "colab": {
          "base_uri": "https://localhost:8080/",
          "height": 206
        },
        "id": "l05BK17R3zHZ",
        "outputId": "9a8f413e-c86a-43db-fbbc-010e291c341c"
      },
      "source": [
        "frame2['price_afterdiscount'] = frame2['price'] - frame2['discount']\n",
        "frame2"
      ],
      "execution_count": 8,
      "outputs": [
        {
          "output_type": "execute_result",
          "data": {
            "text/html": [
              "<div>\n",
              "<style scoped>\n",
              "    .dataframe tbody tr th:only-of-type {\n",
              "        vertical-align: middle;\n",
              "    }\n",
              "\n",
              "    .dataframe tbody tr th {\n",
              "        vertical-align: top;\n",
              "    }\n",
              "\n",
              "    .dataframe thead th {\n",
              "        text-align: right;\n",
              "    }\n",
              "</style>\n",
              "<table border=\"1\" class=\"dataframe\">\n",
              "  <thead>\n",
              "    <tr style=\"text-align: right;\">\n",
              "      <th></th>\n",
              "      <th>object</th>\n",
              "      <th>price</th>\n",
              "      <th>type</th>\n",
              "      <th>discount</th>\n",
              "      <th>price_afterdiscount</th>\n",
              "    </tr>\n",
              "  </thead>\n",
              "  <tbody>\n",
              "    <tr>\n",
              "      <th>0</th>\n",
              "      <td>ball</td>\n",
              "      <td>1.2</td>\n",
              "      <td>good</td>\n",
              "      <td>0.024</td>\n",
              "      <td>1.176</td>\n",
              "    </tr>\n",
              "    <tr>\n",
              "      <th>1</th>\n",
              "      <td>pen</td>\n",
              "      <td>1.0</td>\n",
              "      <td>normal</td>\n",
              "      <td>0.020</td>\n",
              "      <td>0.980</td>\n",
              "    </tr>\n",
              "    <tr>\n",
              "      <th>2</th>\n",
              "      <td>pencil</td>\n",
              "      <td>0.6</td>\n",
              "      <td>normal</td>\n",
              "      <td>0.012</td>\n",
              "      <td>0.588</td>\n",
              "    </tr>\n",
              "    <tr>\n",
              "      <th>3</th>\n",
              "      <td>paper</td>\n",
              "      <td>0.9</td>\n",
              "      <td>normal</td>\n",
              "      <td>0.018</td>\n",
              "      <td>0.882</td>\n",
              "    </tr>\n",
              "    <tr>\n",
              "      <th>4</th>\n",
              "      <td>mug</td>\n",
              "      <td>1.7</td>\n",
              "      <td>good</td>\n",
              "      <td>0.034</td>\n",
              "      <td>1.666</td>\n",
              "    </tr>\n",
              "  </tbody>\n",
              "</table>\n",
              "</div>"
            ],
            "text/plain": [
              "   object  price    type  discount  price_afterdiscount\n",
              "0    ball    1.2    good     0.024                1.176\n",
              "1     pen    1.0  normal     0.020                0.980\n",
              "2  pencil    0.6  normal     0.012                0.588\n",
              "3   paper    0.9  normal     0.018                0.882\n",
              "4     mug    1.7    good     0.034                1.666"
            ]
          },
          "metadata": {},
          "execution_count": 8
        }
      ]
    },
    {
      "cell_type": "code",
      "metadata": {
        "colab": {
          "base_uri": "https://localhost:8080/"
        },
        "id": "TaMsKtSx32GU",
        "outputId": "33bca11b-0b2b-4e74-cfef-14d377484210"
      },
      "source": [
        "import pandas as pd\n",
        "dulieuxettuyen = pd.read_csv(\"https://raw.githubusercontent.com/huynhhoc/DataAnalystDeepLearning/main/Data/dulieuxettuyendaihoc.csv\")\n",
        "print (dulieuxettuyen.head(10))"
      ],
      "execution_count": 9,
      "outputs": [
        {
          "output_type": "stream",
          "name": "stdout",
          "text": [
            "   STT   T1   L1   H1   S1   V1   X1  ...  GT  DT   KV   DH1   DH2   DH3  KT\n",
            "0    1  7.2  7.3  6.3  7.3  7.0  7.9  ...   F NaN  2NT  3.25  3.25  4.50  A1\n",
            "1    2  5.4  3.9  3.9  4.0  5.4  5.4  ...   M NaN    1  6.00  4.00  3.50   C\n",
            "2    3  5.6  6.8  7.2  7.5  4.3  7.4  ...   M NaN    1  5.00  6.75  4.00   C\n",
            "3    4  6.6  6.4  5.3  6.9  5.4  7.3  ...   M NaN    1  4.25  4.25  5.25  D1\n",
            "4    5  6.0  5.0  6.0  7.3  6.5  7.7  ...   M NaN  2NT  4.25  4.50  5.00   A\n",
            "5    6  9.3  7.6  7.9  8.6  7.0  7.3  ...   M NaN    1  1.50  4.00  6.00  D1\n",
            "6    7  2.8  3.9  5.5  6.9  5.0  7.3  ...   F NaN    2  6.50  6.75  5.25   C\n",
            "7    8  8.3  6.0  7.6  5.1  7.5  4.7  ...   F NaN    2  3.75  4.50  4.25  D1\n",
            "8    9  6.5  6.3  7.6  6.0  5.5  7.1  ...   F NaN    1  3.50  3.50  6.75  D1\n",
            "9   10  7.3  5.9  4.7  7.1  6.7  7.9  ...   F NaN    1  4.00  4.75  5.50  D1\n",
            "\n",
            "[10 rows x 56 columns]\n"
          ]
        }
      ]
    },
    {
      "cell_type": "code",
      "metadata": {
        "colab": {
          "base_uri": "https://localhost:8080/"
        },
        "id": "kaLfBkpc397H",
        "outputId": "9cf59b41-19f2-4d9d-f77e-7ad1280521ed"
      },
      "source": [
        "import pandas as pd\n",
        "import numpy as np\n",
        "frame = pd.DataFrame(np.arange(16).reshape(4,4),\n",
        "\t\tindex =['white', 'black', 'red','blue'],\n",
        "\t\tcolumns =['up', 'down', 'right', 'left'])\n",
        "frame.to_json('frame.json')\n",
        "#Read json-formatted data\n",
        "jsonFrame = pd.read_json('frame.json')\n",
        "print(jsonFrame)"
      ],
      "execution_count": 10,
      "outputs": [
        {
          "output_type": "stream",
          "name": "stdout",
          "text": [
            "       up  down  right  left\n",
            "white   0     1      2     3\n",
            "black   4     5      6     7\n",
            "red     8     9     10    11\n",
            "blue   12    13     14    15\n"
          ]
        }
      ]
    },
    {
      "cell_type": "code",
      "metadata": {
        "colab": {
          "base_uri": "https://localhost:8080/"
        },
        "id": "4jL17P4G3-rQ",
        "outputId": "82508c1f-608d-4cc6-def9-53883b7581a4"
      },
      "source": [
        "import pandas as pd\n",
        "example11 = pd.read_table('https://raw.githubusercontent.com/huynhhoc/DataAnalystDeepLearning/main/Data/example11.txt', sep='\\D+', header=None, engine='python')\n",
        "print (example11)"
      ],
      "execution_count": 11,
      "outputs": [
        {
          "output_type": "stream",
          "name": "stdout",
          "text": [
            "   0    1    2\n",
            "0  0  123  122\n",
            "1  1  124  321\n",
            "2  2  125  333\n"
          ]
        }
      ]
    },
    {
      "cell_type": "code",
      "metadata": {
        "colab": {
          "base_uri": "https://localhost:8080/"
        },
        "id": "iXQ0cpPv4BWQ",
        "outputId": "c46c17c6-4273-4a19-f2e4-248fb5f2f33d"
      },
      "source": [
        "import pandas as pd\n",
        "example12 = pd.read_table('https://raw.githubusercontent.com/huynhhoc/DataAnalystDeepLearning/main/Data/example12.txt', sep=',', skiprows=[0,1,3,6])\n",
        "print (example12)"
      ],
      "execution_count": 12,
      "outputs": [
        {
          "output_type": "stream",
          "name": "stdout",
          "text": [
            "   white  red  blue  green animal\n",
            "0      1    5     2      3    cat\n",
            "1      2    7     8      5    dog\n",
            "2      3    3     6      7  horse\n",
            "3      2    2     8      3   duck\n",
            "4      4    4     2      1  mouse\n"
          ]
        }
      ]
    },
    {
      "cell_type": "code",
      "metadata": {
        "colab": {
          "base_uri": "https://localhost:8080/"
        },
        "id": "7MafBZpe4DTG",
        "outputId": "08c5d74c-9945-4e83-c136-f83956961827"
      },
      "source": [
        "import pandas as pd\n",
        "example13 = pd.read_table('https://raw.githubusercontent.com/huynhhoc/DataAnalystDeepLearning/main/Data/example13.txt', skiprows=[2], nrows=3)\n",
        "print (example13)"
      ],
      "execution_count": 13,
      "outputs": [
        {
          "output_type": "stream",
          "name": "stdout",
          "text": [
            "  white,red,blue,green,animal\n",
            "0                 1,5,2,3,cat\n",
            "1               3,3,6,7,horse\n",
            "2                2,2,8,3,duck\n"
          ]
        }
      ]
    },
    {
      "cell_type": "code",
      "metadata": {
        "colab": {
          "base_uri": "https://localhost:8080/"
        },
        "id": "TYI59hJh4Iav",
        "outputId": "405a1dec-d1bc-47f6-cc5d-1063abfddb1b"
      },
      "source": [
        "import pandas as pd\n",
        "import numpy as np\n",
        "frame = pd.DataFrame(np.arange(16).reshape(4,4),index = ['red', 'blue', 'yellow','white'],columns = ['ball', 'pen', 'pencil', 'paper'])\n",
        "print(frame)"
      ],
      "execution_count": 14,
      "outputs": [
        {
          "output_type": "stream",
          "name": "stdout",
          "text": [
            "        ball  pen  pencil  paper\n",
            "red        0    1       2      3\n",
            "blue       4    5       6      7\n",
            "yellow     8    9      10     11\n",
            "white     12   13      14     15\n"
          ]
        }
      ]
    },
    {
      "cell_type": "code",
      "metadata": {
        "colab": {
          "base_uri": "https://localhost:8080/"
        },
        "id": "xl9jng6r4Lp3",
        "outputId": "c6a8d4f6-c29d-4ba7-d6c9-1beac6035648"
      },
      "source": [
        "newframe = pd.DataFrame(frame, columns=['paper','pen'])\n",
        "print(newframe)"
      ],
      "execution_count": 15,
      "outputs": [
        {
          "output_type": "stream",
          "name": "stdout",
          "text": [
            "        paper  pen\n",
            "red         3    1\n",
            "blue        7    5\n",
            "yellow     11    9\n",
            "white      15   13\n"
          ]
        }
      ]
    },
    {
      "cell_type": "code",
      "metadata": {
        "colab": {
          "base_uri": "https://localhost:8080/"
        },
        "id": "VaDq93g64OOP",
        "outputId": "28232ba2-5df7-4f16-c394-35dbc43b26a0"
      },
      "source": [
        "filteredFrame = frame[frame < 11]\n",
        "print(filteredFrame)"
      ],
      "execution_count": 17,
      "outputs": [
        {
          "output_type": "stream",
          "name": "stdout",
          "text": [
            "        ball  pen  pencil  paper\n",
            "red      0.0  1.0     2.0    3.0\n",
            "blue     4.0  5.0     6.0    7.0\n",
            "yellow   8.0  9.0    10.0    NaN\n",
            "white    NaN  NaN     NaN    NaN\n"
          ]
        }
      ]
    },
    {
      "cell_type": "code",
      "metadata": {
        "colab": {
          "base_uri": "https://localhost:8080/"
        },
        "id": "JYXmXx3C4Von",
        "outputId": "31404852-83c4-476f-ad9a-fae493ef4567"
      },
      "source": [
        "dropAllNaNFrame = filteredFrame.dropna()\n",
        "print (dropAllNaNFrame)"
      ],
      "execution_count": 18,
      "outputs": [
        {
          "output_type": "stream",
          "name": "stdout",
          "text": [
            "      ball  pen  pencil  paper\n",
            "red    0.0  1.0     2.0    3.0\n",
            "blue   4.0  5.0     6.0    7.0\n"
          ]
        }
      ]
    },
    {
      "cell_type": "code",
      "metadata": {
        "colab": {
          "base_uri": "https://localhost:8080/"
        },
        "id": "69Dt3Jmo4Xd_",
        "outputId": "d8f9a63e-0642-4371-a205-c97974337167"
      },
      "source": [
        "dropNaNAllFrame = filteredFrame.dropna(how='all')\n",
        "print(dropNaNAllFrame)"
      ],
      "execution_count": 19,
      "outputs": [
        {
          "output_type": "stream",
          "name": "stdout",
          "text": [
            "        ball  pen  pencil  paper\n",
            "red      0.0  1.0     2.0    3.0\n",
            "blue     4.0  5.0     6.0    7.0\n",
            "yellow   8.0  9.0    10.0    NaN\n"
          ]
        }
      ]
    },
    {
      "cell_type": "code",
      "metadata": {
        "colab": {
          "base_uri": "https://localhost:8080/"
        },
        "id": "HEeOrHOy4YW2",
        "outputId": "a7d4ea04-385d-4c3e-b3de-7693d5bc4d22"
      },
      "source": [
        "filteredFrame.isnull().sum()"
      ],
      "execution_count": 20,
      "outputs": [
        {
          "output_type": "execute_result",
          "data": {
            "text/plain": [
              "ball      1\n",
              "pen       1\n",
              "pencil    1\n",
              "paper     2\n",
              "dtype: int64"
            ]
          },
          "metadata": {},
          "execution_count": 20
        }
      ]
    },
    {
      "cell_type": "code",
      "metadata": {
        "colab": {
          "base_uri": "https://localhost:8080/"
        },
        "id": "yfQa1iJ44aPe",
        "outputId": "7ee6d476-2a93-4a67-b6fc-2c790fe4f9d0"
      },
      "source": [
        "print (filteredFrame)"
      ],
      "execution_count": 21,
      "outputs": [
        {
          "output_type": "stream",
          "name": "stdout",
          "text": [
            "        ball  pen  pencil  paper\n",
            "red      0.0  1.0     2.0    3.0\n",
            "blue     4.0  5.0     6.0    7.0\n",
            "yellow   8.0  9.0    10.0    NaN\n",
            "white    NaN  NaN     NaN    NaN\n"
          ]
        }
      ]
    },
    {
      "cell_type": "code",
      "metadata": {
        "colab": {
          "base_uri": "https://localhost:8080/"
        },
        "id": "M6iLgWnt4d1W",
        "outputId": "3f4046d1-9492-441c-96a1-ae6c3cedd187"
      },
      "source": [
        "fillnazeroFrame = filteredFrame.fillna(0)\n",
        "print(fillnazeroFrame)"
      ],
      "execution_count": 22,
      "outputs": [
        {
          "output_type": "stream",
          "name": "stdout",
          "text": [
            "        ball  pen  pencil  paper\n",
            "red      0.0  1.0     2.0    3.0\n",
            "blue     4.0  5.0     6.0    7.0\n",
            "yellow   8.0  9.0    10.0    0.0\n",
            "white    0.0  0.0     0.0    0.0\n"
          ]
        }
      ]
    },
    {
      "cell_type": "code",
      "metadata": {
        "colab": {
          "base_uri": "https://localhost:8080/"
        },
        "id": "sHYEPkQ94gNQ",
        "outputId": "12b77aed-8f68-4b85-9794-04ec308129a5"
      },
      "source": [
        "from google.colab import drive\n",
        "drive.mount('/drive')"
      ],
      "execution_count": 23,
      "outputs": [
        {
          "output_type": "stream",
          "name": "stdout",
          "text": [
            "Mounted at /drive\n"
          ]
        }
      ]
    },
    {
      "cell_type": "code",
      "metadata": {
        "colab": {
          "base_uri": "https://localhost:8080/"
        },
        "id": "DhftswWb46OA",
        "outputId": "4ee7304f-34c3-4917-8b49-66ff2bf62cd6"
      },
      "source": [
        "import pandas as pd\n",
        "df = pd.read_csv(\"https://raw.githubusercontent.com/huynhhoc/DataAnalystDeepLearning/main/Data/dulieuxettuyendaihoc.csv\", index_col = \"STT\")\n",
        "print(df)"
      ],
      "execution_count": 25,
      "outputs": [
        {
          "output_type": "stream",
          "name": "stdout",
          "text": [
            "      T1   L1   H1   S1   V1   X1   D1  ...  GT  DT   KV   DH1   DH2   DH3  KT\n",
            "STT                                     ...                                   \n",
            "1    7.2  7.3  6.3  7.3  7.0  7.9  7.3  ...   F NaN  2NT  3.25  3.25  4.50  A1\n",
            "2    5.4  3.9  3.9  4.0  5.4  5.4  5.3  ...   M NaN    1  6.00  4.00  3.50   C\n",
            "3    5.6  6.8  7.2  7.5  4.3  7.4  5.8  ...   M NaN    1  5.00  6.75  4.00   C\n",
            "4    6.6  6.4  5.3  6.9  5.4  7.3  6.4  ...   M NaN    1  4.25  4.25  5.25  D1\n",
            "5    6.0  5.0  6.0  7.3  6.5  7.7  7.9  ...   M NaN  2NT  4.25  4.50  5.00   A\n",
            "..   ...  ...  ...  ...  ...  ...  ...  ...  ..  ..  ...   ...   ...   ...  ..\n",
            "96   8.6  6.9  7.4  8.8  7.6  5.8  7.3  ...   F NaN    1  5.25  1.50  6.25   C\n",
            "97   3.7  5.4  6.0  5.1  5.5  3.9  6.1  ...   F NaN    1  5.25  3.75  4.75   C\n",
            "98   8.8  5.5  7.4  7.7  6.2  7.3  8.1  ...   M NaN  2NT  7.00  8.00  4.00   C\n",
            "99   2.7  1.8  3.4  5.3  4.5  7.9  4.9  ...   M NaN    1  5.00  3.50  5.50   C\n",
            "100  4.1  5.2  4.9  5.3  5.5  5.4  7.2  ...   M NaN  2NT  5.25  2.50  4.25   C\n",
            "\n",
            "[100 rows x 55 columns]\n"
          ]
        }
      ]
    },
    {
      "cell_type": "code",
      "metadata": {
        "colab": {
          "base_uri": "https://localhost:8080/"
        },
        "id": "k2upeHrG48pI",
        "outputId": "7a7f8ad8-48f7-4b84-f2a7-177aad2f2f0b"
      },
      "source": [
        "def fill(col):\n",
        "  return df[col].fillna(df[col], inplace = True)\n",
        "print(df.dtypes)"
      ],
      "execution_count": 27,
      "outputs": [
        {
          "output_type": "stream",
          "name": "stdout",
          "text": [
            "T1     float64\n",
            "L1     float64\n",
            "H1     float64\n",
            "S1     float64\n",
            "V1     float64\n",
            "X1     float64\n",
            "D1     float64\n",
            "N1     float64\n",
            "T2     float64\n",
            "L2     float64\n",
            "H2     float64\n",
            "S2     float64\n",
            "V2     float64\n",
            "X2     float64\n",
            "D2     float64\n",
            "N2     float64\n",
            "T3     float64\n",
            "L3     float64\n",
            "H3     float64\n",
            "S3     float64\n",
            "V3     float64\n",
            "X3     float64\n",
            "D3     float64\n",
            "N3     float64\n",
            "T4     float64\n",
            "L4     float64\n",
            "H4     float64\n",
            "S4     float64\n",
            "V4     float64\n",
            "X4     float64\n",
            "D4     float64\n",
            "N4     float64\n",
            "T5     float64\n",
            "L5     float64\n",
            "H5     float64\n",
            "S5     float64\n",
            "V5     float64\n",
            "X5     float64\n",
            "D5     float64\n",
            "N5     float64\n",
            "T6     float64\n",
            "L6     float64\n",
            "H6     float64\n",
            "S6     float64\n",
            "V6     float64\n",
            "X6     float64\n",
            "D6     float64\n",
            "N6     float64\n",
            "GT      object\n",
            "DT     float64\n",
            "KV      object\n",
            "DH1    float64\n",
            "DH2    float64\n",
            "DH3    float64\n",
            "KT      object\n",
            "dtype: object\n"
          ]
        }
      ]
    },
    {
      "cell_type": "code",
      "metadata": {
        "colab": {
          "base_uri": "https://localhost:8080/"
        },
        "id": "M8KPOXo_5AkG",
        "outputId": "95a750ab-a420-4c1a-a328-52e5db2023c6"
      },
      "source": [
        "print(df.head(10))"
      ],
      "execution_count": 28,
      "outputs": [
        {
          "output_type": "stream",
          "name": "stdout",
          "text": [
            "      T1   L1   H1   S1   V1   X1   D1  ...  GT  DT   KV   DH1   DH2   DH3  KT\n",
            "STT                                     ...                                   \n",
            "1    7.2  7.3  6.3  7.3  7.0  7.9  7.3  ...   F NaN  2NT  3.25  3.25  4.50  A1\n",
            "2    5.4  3.9  3.9  4.0  5.4  5.4  5.3  ...   M NaN    1  6.00  4.00  3.50   C\n",
            "3    5.6  6.8  7.2  7.5  4.3  7.4  5.8  ...   M NaN    1  5.00  6.75  4.00   C\n",
            "4    6.6  6.4  5.3  6.9  5.4  7.3  6.4  ...   M NaN    1  4.25  4.25  5.25  D1\n",
            "5    6.0  5.0  6.0  7.3  6.5  7.7  7.9  ...   M NaN  2NT  4.25  4.50  5.00   A\n",
            "6    9.3  7.6  7.9  8.6  7.0  7.3  7.7  ...   M NaN    1  1.50  4.00  6.00  D1\n",
            "7    2.8  3.9  5.5  6.9  5.0  7.3  4.6  ...   F NaN    2  6.50  6.75  5.25   C\n",
            "8    8.3  6.0  7.6  5.1  7.5  4.7  5.8  ...   F NaN    2  3.75  4.50  4.25  D1\n",
            "9    6.5  6.3  7.6  6.0  5.5  7.1  6.3  ...   F NaN    1  3.50  3.50  6.75  D1\n",
            "10   7.3  5.9  4.7  7.1  6.7  7.9  6.7  ...   F NaN    1  4.00  4.75  5.50  D1\n",
            "\n",
            "[10 rows x 55 columns]\n"
          ]
        }
      ]
    },
    {
      "cell_type": "code",
      "metadata": {
        "colab": {
          "base_uri": "https://localhost:8080/"
        },
        "id": "MmwVlkyO5DIZ",
        "outputId": "54e77dd1-5b55-46e3-a7a3-4d5818597ed0"
      },
      "source": [
        "print(df.tail(10))"
      ],
      "execution_count": 29,
      "outputs": [
        {
          "output_type": "stream",
          "name": "stdout",
          "text": [
            "      T1   L1   H1   S1   V1   X1   D1  ...  GT  DT   KV   DH1   DH2   DH3  KT\n",
            "STT                                     ...                                   \n",
            "91   8.1  7.7  9.1  8.5  6.1  8.6  8.8  ...   M NaN    2  6.25  4.00  6.50   A\n",
            "92   7.8  6.5  6.7  5.4  6.2  4.8  5.9  ...   M NaN  2NT  4.75  4.75  4.50   A\n",
            "93   5.0  6.6  6.5  7.2  5.8  6.7  6.4  ...   M NaN    1  3.25  5.25  4.25   A\n",
            "94   5.2  5.2  6.8  7.9  6.6  8.9  7.6  ...   M NaN    1  3.50  4.25  5.00   A\n",
            "95   5.8  5.9  7.6  6.1  5.3  8.1  6.1  ...   M NaN    1  4.25  2.50  4.75   A\n",
            "96   8.6  6.9  7.4  8.8  7.6  5.8  7.3  ...   F NaN    1  5.25  1.50  6.25   C\n",
            "97   3.7  5.4  6.0  5.1  5.5  3.9  6.1  ...   F NaN    1  5.25  3.75  4.75   C\n",
            "98   8.8  5.5  7.4  7.7  6.2  7.3  8.1  ...   M NaN  2NT  7.00  8.00  4.00   C\n",
            "99   2.7  1.8  3.4  5.3  4.5  7.9  4.9  ...   M NaN    1  5.00  3.50  5.50   C\n",
            "100  4.1  5.2  4.9  5.3  5.5  5.4  7.2  ...   M NaN  2NT  5.25  2.50  4.25   C\n",
            "\n",
            "[10 rows x 55 columns]\n"
          ]
        }
      ]
    },
    {
      "cell_type": "code",
      "metadata": {
        "colab": {
          "base_uri": "https://localhost:8080/"
        },
        "id": "KQTknmE15FFw",
        "outputId": "d6fc4a9e-e887-48b6-b63b-f387e88f5eb9"
      },
      "source": [
        "df['DT'].fillna(0, inplace = True)\n",
        "print(df)"
      ],
      "execution_count": 30,
      "outputs": [
        {
          "output_type": "stream",
          "name": "stdout",
          "text": [
            "      T1   L1   H1   S1   V1   X1   D1  ...  GT   DT   KV   DH1   DH2   DH3  KT\n",
            "STT                                     ...                                    \n",
            "1    7.2  7.3  6.3  7.3  7.0  7.9  7.3  ...   F  0.0  2NT  3.25  3.25  4.50  A1\n",
            "2    5.4  3.9  3.9  4.0  5.4  5.4  5.3  ...   M  0.0    1  6.00  4.00  3.50   C\n",
            "3    5.6  6.8  7.2  7.5  4.3  7.4  5.8  ...   M  0.0    1  5.00  6.75  4.00   C\n",
            "4    6.6  6.4  5.3  6.9  5.4  7.3  6.4  ...   M  0.0    1  4.25  4.25  5.25  D1\n",
            "5    6.0  5.0  6.0  7.3  6.5  7.7  7.9  ...   M  0.0  2NT  4.25  4.50  5.00   A\n",
            "..   ...  ...  ...  ...  ...  ...  ...  ...  ..  ...  ...   ...   ...   ...  ..\n",
            "96   8.6  6.9  7.4  8.8  7.6  5.8  7.3  ...   F  0.0    1  5.25  1.50  6.25   C\n",
            "97   3.7  5.4  6.0  5.1  5.5  3.9  6.1  ...   F  0.0    1  5.25  3.75  4.75   C\n",
            "98   8.8  5.5  7.4  7.7  6.2  7.3  8.1  ...   M  0.0  2NT  7.00  8.00  4.00   C\n",
            "99   2.7  1.8  3.4  5.3  4.5  7.9  4.9  ...   M  0.0    1  5.00  3.50  5.50   C\n",
            "100  4.1  5.2  4.9  5.3  5.5  5.4  7.2  ...   M  0.0  2NT  5.25  2.50  4.25   C\n",
            "\n",
            "[100 rows x 55 columns]\n"
          ]
        }
      ]
    },
    {
      "cell_type": "code",
      "metadata": {
        "colab": {
          "base_uri": "https://localhost:8080/"
        },
        "id": "5TSUPrhg5Hav",
        "outputId": "272260bb-5961-4af2-b4a9-5fabd965c92f"
      },
      "source": [
        "df[\"T1\"].fillna(df[\"T1\"].mean(), inplace =True)\n",
        "print(df)"
      ],
      "execution_count": 31,
      "outputs": [
        {
          "output_type": "stream",
          "name": "stdout",
          "text": [
            "      T1   L1   H1   S1   V1   X1   D1  ...  GT   DT   KV   DH1   DH2   DH3  KT\n",
            "STT                                     ...                                    \n",
            "1    7.2  7.3  6.3  7.3  7.0  7.9  7.3  ...   F  0.0  2NT  3.25  3.25  4.50  A1\n",
            "2    5.4  3.9  3.9  4.0  5.4  5.4  5.3  ...   M  0.0    1  6.00  4.00  3.50   C\n",
            "3    5.6  6.8  7.2  7.5  4.3  7.4  5.8  ...   M  0.0    1  5.00  6.75  4.00   C\n",
            "4    6.6  6.4  5.3  6.9  5.4  7.3  6.4  ...   M  0.0    1  4.25  4.25  5.25  D1\n",
            "5    6.0  5.0  6.0  7.3  6.5  7.7  7.9  ...   M  0.0  2NT  4.25  4.50  5.00   A\n",
            "..   ...  ...  ...  ...  ...  ...  ...  ...  ..  ...  ...   ...   ...   ...  ..\n",
            "96   8.6  6.9  7.4  8.8  7.6  5.8  7.3  ...   F  0.0    1  5.25  1.50  6.25   C\n",
            "97   3.7  5.4  6.0  5.1  5.5  3.9  6.1  ...   F  0.0    1  5.25  3.75  4.75   C\n",
            "98   8.8  5.5  7.4  7.7  6.2  7.3  8.1  ...   M  0.0  2NT  7.00  8.00  4.00   C\n",
            "99   2.7  1.8  3.4  5.3  4.5  7.9  4.9  ...   M  0.0    1  5.00  3.50  5.50   C\n",
            "100  4.1  5.2  4.9  5.3  5.5  5.4  7.2  ...   M  0.0  2NT  5.25  2.50  4.25   C\n",
            "\n",
            "[100 rows x 55 columns]\n"
          ]
        }
      ]
    },
    {
      "cell_type": "code",
      "metadata": {
        "id": "0NYn2yvO5K0e"
      },
      "source": [
        "is_float64 = df.dtypes == float\n",
        "df_column_list = df.columns[is_float64].tolist()"
      ],
      "execution_count": 32,
      "outputs": []
    },
    {
      "cell_type": "code",
      "metadata": {
        "colab": {
          "base_uri": "https://localhost:8080/"
        },
        "id": "6S7DsP3w5NBm",
        "outputId": "7acda4f8-5809-4ae4-f48e-4e685fad7f6b"
      },
      "source": [
        "df_column_list"
      ],
      "execution_count": 33,
      "outputs": [
        {
          "output_type": "execute_result",
          "data": {
            "text/plain": [
              "['T1',\n",
              " 'L1',\n",
              " 'H1',\n",
              " 'S1',\n",
              " 'V1',\n",
              " 'X1',\n",
              " 'D1',\n",
              " 'N1',\n",
              " 'T2',\n",
              " 'L2',\n",
              " 'H2',\n",
              " 'S2',\n",
              " 'V2',\n",
              " 'X2',\n",
              " 'D2',\n",
              " 'N2',\n",
              " 'T3',\n",
              " 'L3',\n",
              " 'H3',\n",
              " 'S3',\n",
              " 'V3',\n",
              " 'X3',\n",
              " 'D3',\n",
              " 'N3',\n",
              " 'T4',\n",
              " 'L4',\n",
              " 'H4',\n",
              " 'S4',\n",
              " 'V4',\n",
              " 'X4',\n",
              " 'D4',\n",
              " 'N4',\n",
              " 'T5',\n",
              " 'L5',\n",
              " 'H5',\n",
              " 'S5',\n",
              " 'V5',\n",
              " 'X5',\n",
              " 'D5',\n",
              " 'N5',\n",
              " 'T6',\n",
              " 'L6',\n",
              " 'H6',\n",
              " 'S6',\n",
              " 'V6',\n",
              " 'X6',\n",
              " 'D6',\n",
              " 'N6',\n",
              " 'DT',\n",
              " 'DH1',\n",
              " 'DH2',\n",
              " 'DH3']"
            ]
          },
          "metadata": {},
          "execution_count": 33
        }
      ]
    },
    {
      "cell_type": "code",
      "metadata": {
        "colab": {
          "base_uri": "https://localhost:8080/"
        },
        "id": "N9OrUvE85PnP",
        "outputId": "a2a9bfb6-a3fa-4a90-fb99-1d663c98bc48"
      },
      "source": [
        "for col in df_column_list:\n",
        "  df[col].fillna(df[col].mean(), inplace =True)\n",
        "print(df)"
      ],
      "execution_count": 34,
      "outputs": [
        {
          "output_type": "stream",
          "name": "stdout",
          "text": [
            "      T1   L1   H1   S1   V1   X1   D1  ...  GT   DT   KV   DH1   DH2   DH3  KT\n",
            "STT                                     ...                                    \n",
            "1    7.2  7.3  6.3  7.3  7.0  7.9  7.3  ...   F  0.0  2NT  3.25  3.25  4.50  A1\n",
            "2    5.4  3.9  3.9  4.0  5.4  5.4  5.3  ...   M  0.0    1  6.00  4.00  3.50   C\n",
            "3    5.6  6.8  7.2  7.5  4.3  7.4  5.8  ...   M  0.0    1  5.00  6.75  4.00   C\n",
            "4    6.6  6.4  5.3  6.9  5.4  7.3  6.4  ...   M  0.0    1  4.25  4.25  5.25  D1\n",
            "5    6.0  5.0  6.0  7.3  6.5  7.7  7.9  ...   M  0.0  2NT  4.25  4.50  5.00   A\n",
            "..   ...  ...  ...  ...  ...  ...  ...  ...  ..  ...  ...   ...   ...   ...  ..\n",
            "96   8.6  6.9  7.4  8.8  7.6  5.8  7.3  ...   F  0.0    1  5.25  1.50  6.25   C\n",
            "97   3.7  5.4  6.0  5.1  5.5  3.9  6.1  ...   F  0.0    1  5.25  3.75  4.75   C\n",
            "98   8.8  5.5  7.4  7.7  6.2  7.3  8.1  ...   M  0.0  2NT  7.00  8.00  4.00   C\n",
            "99   2.7  1.8  3.4  5.3  4.5  7.9  4.9  ...   M  0.0    1  5.00  3.50  5.50   C\n",
            "100  4.1  5.2  4.9  5.3  5.5  5.4  7.2  ...   M  0.0  2NT  5.25  2.50  4.25   C\n",
            "\n",
            "[100 rows x 55 columns]\n"
          ]
        }
      ]
    },
    {
      "cell_type": "markdown",
      "metadata": {
        "id": "9AopYAE75T92"
      },
      "source": [
        "Tạo các biến TBM1, TBM2, TBM3 tương ứng với trung bình môn của các năm lớp 10, 11 và 12."
      ]
    },
    {
      "cell_type": "code",
      "metadata": {
        "id": "ORj-HXoW5Wpn"
      },
      "source": [
        "for i in ['1', '2', '6']:\n",
        "  df['TBM' + i] = (df['T'+i] * 2 + df['L' + i] + df['H' + i] + df['S' + i] + df['V' + i] * 2 + df['X' + i] + df['D' + i] + df['N' + i]) / 10"
      ],
      "execution_count": 35,
      "outputs": []
    },
    {
      "cell_type": "code",
      "metadata": {
        "id": "7vDFeTCn5bcu"
      },
      "source": [
        "df.rename(columns={\"TBM6\":\"TBM3\"}, inplace = True)"
      ],
      "execution_count": 36,
      "outputs": []
    },
    {
      "cell_type": "code",
      "metadata": {
        "colab": {
          "base_uri": "https://localhost:8080/"
        },
        "id": "-heVlHG75dQe",
        "outputId": "2f39d87d-e1b1-4a4c-eb2d-d614b39a306d"
      },
      "source": [
        "print(df)"
      ],
      "execution_count": 37,
      "outputs": [
        {
          "output_type": "stream",
          "name": "stdout",
          "text": [
            "      T1   L1   H1   S1   V1   X1   D1  ...   DH1   DH2   DH3  KT  TBM1  TBM2  TBM3\n",
            "STT                                     ...                                        \n",
            "1    7.2  7.3  6.3  7.3  7.0  7.9  7.3  ...  3.25  3.25  4.50  A1  7.00  7.54  7.01\n",
            "2    5.4  3.9  3.9  4.0  5.4  5.4  5.3  ...  6.00  4.00  3.50   C  4.69  5.47  5.07\n",
            "3    5.6  6.8  7.2  7.5  4.3  7.4  5.8  ...  5.00  6.75  4.00   C  5.77  5.38  6.04\n",
            "4    6.6  6.4  5.3  6.9  5.4  7.3  6.4  ...  4.25  4.25  5.25  D1  6.21  5.20  6.88\n",
            "5    6.0  5.0  6.0  7.3  6.5  7.7  7.9  ...  4.25  4.50  5.00   A  6.50  6.36  6.99\n",
            "..   ...  ...  ...  ...  ...  ...  ...  ...   ...   ...   ...  ..   ...   ...   ...\n",
            "96   8.6  6.9  7.4  8.8  7.6  5.8  7.3  ...  5.25  1.50  6.25   C  7.43  7.42  6.83\n",
            "97   3.7  5.4  6.0  5.1  5.5  3.9  6.1  ...  5.25  3.75  4.75   C  4.93  5.15  6.39\n",
            "98   8.8  5.5  7.4  7.7  6.2  7.3  8.1  ...  7.00  8.00  4.00   C  7.05  7.84  7.67\n",
            "99   2.7  1.8  3.4  5.3  4.5  7.9  4.9  ...  5.00  3.50  5.50   C  4.15  4.72  5.29\n",
            "100  4.1  5.2  4.9  5.3  5.5  5.4  7.2  ...  5.25  2.50  4.25   C  5.26  5.72  5.85\n",
            "\n",
            "[100 rows x 58 columns]\n"
          ]
        }
      ]
    },
    {
      "cell_type": "markdown",
      "metadata": {
        "id": "pmYXp-0L5fqQ"
      },
      "source": [
        "8.Tạo các biến xếp loại XL1, XL2 và XL3 dựa trên TBM1,TBM2 và TBM3 cho từng năm lớp 10, 11, 12 như sau:\n",
        "\n",
        "Nhỏ hơn 5.0 xếp loại: yếu (kí hiệu là Y)\n",
        "Từ 5.0 đến dưới 6.5: trung bình (kí hiệu là TB)\n",
        "Từ 6.5 đến dưới 8.0: khá (kí hiệu là K)\n",
        "Từ 8.0 đến dưới 9.0: giỏi (kí hiệu là G)\n",
        "Từ 9.0 trở lên: xuất sắc (kí hiệu là XS)"
      ]
    },
    {
      "cell_type": "code",
      "metadata": {
        "id": "XDN0aouI5gdA"
      },
      "source": [
        "for i in ['1','2','3']:\n",
        "  df.loc[df['TBM' + i] < 5, 'XL' + i] = 'Y'\n",
        "  df.loc[(df['TBM'+i] <= 6.5) &(df['TBM'+i] > 5), 'XL' + i] = 'TB'\n",
        "  df.loc[(df['TBM'+i] < 8) &(df['TBM'+i] >= 6.5), 'XL'+i] = 'K' \n",
        "  df.loc[(df['TBM'+i] < 9) &(df['TBM'+i] >=8), 'XL'+i] = 'G' \n",
        "  df.loc[(df['TBM'+i] >= 9), 'XL'+i] = 'XS'"
      ],
      "execution_count": 38,
      "outputs": []
    },
    {
      "cell_type": "code",
      "metadata": {
        "colab": {
          "base_uri": "https://localhost:8080/"
        },
        "id": "pkCBdJOx5k2Y",
        "outputId": "a16257aa-a50a-47f4-931d-8e7557f929d1"
      },
      "source": [
        "print(df)"
      ],
      "execution_count": 39,
      "outputs": [
        {
          "output_type": "stream",
          "name": "stdout",
          "text": [
            "      T1   L1   H1   S1   V1   X1   D1  ...  KT  TBM1  TBM2  TBM3  XL1  XL2  XL3\n",
            "STT                                     ...                                     \n",
            "1    7.2  7.3  6.3  7.3  7.0  7.9  7.3  ...  A1  7.00  7.54  7.01    K    K    K\n",
            "2    5.4  3.9  3.9  4.0  5.4  5.4  5.3  ...   C  4.69  5.47  5.07    Y   TB   TB\n",
            "3    5.6  6.8  7.2  7.5  4.3  7.4  5.8  ...   C  5.77  5.38  6.04   TB   TB   TB\n",
            "4    6.6  6.4  5.3  6.9  5.4  7.3  6.4  ...  D1  6.21  5.20  6.88   TB   TB    K\n",
            "5    6.0  5.0  6.0  7.3  6.5  7.7  7.9  ...   A  6.50  6.36  6.99    K   TB    K\n",
            "..   ...  ...  ...  ...  ...  ...  ...  ...  ..   ...   ...   ...  ...  ...  ...\n",
            "96   8.6  6.9  7.4  8.8  7.6  5.8  7.3  ...   C  7.43  7.42  6.83    K    K    K\n",
            "97   3.7  5.4  6.0  5.1  5.5  3.9  6.1  ...   C  4.93  5.15  6.39    Y   TB   TB\n",
            "98   8.8  5.5  7.4  7.7  6.2  7.3  8.1  ...   C  7.05  7.84  7.67    K    K    K\n",
            "99   2.7  1.8  3.4  5.3  4.5  7.9  4.9  ...   C  4.15  4.72  5.29    Y    Y   TB\n",
            "100  4.1  5.2  4.9  5.3  5.5  5.4  7.2  ...   C  5.26  5.72  5.85   TB   TB   TB\n",
            "\n",
            "[100 rows x 61 columns]\n"
          ]
        }
      ]
    },
    {
      "cell_type": "markdown",
      "metadata": {
        "id": "1NWqpQlu5pjI"
      },
      "source": [
        "9.Tạo các biến US_TBM1, US_TBM2 và US_TBM3 để chuyển điểm trung bình các năm lớp 10, 11 và 12 từ thang điểm 10 của Việt Nam sang thang điểm 4 của Mỹ. Sử dụng phương pháp Min-Max Normalization"
      ]
    },
    {
      "cell_type": "code",
      "metadata": {
        "id": "x-iEIpfC5qKf"
      },
      "source": [
        "for i in [\"1\",\"2\",\"3\"]:\n",
        "    df[\"US_TBM\"+i] = (df[\"TBM\"+i]/10) *4"
      ],
      "execution_count": 40,
      "outputs": []
    },
    {
      "cell_type": "code",
      "metadata": {
        "colab": {
          "base_uri": "https://localhost:8080/"
        },
        "id": "sNdbYTay5tdZ",
        "outputId": "378b489f-3c9d-4b1e-8b17-b549e652902c"
      },
      "source": [
        "print(df)"
      ],
      "execution_count": 41,
      "outputs": [
        {
          "output_type": "stream",
          "name": "stdout",
          "text": [
            "      T1   L1   H1   S1   V1   X1  ...  XL1  XL2  XL3  US_TBM1  US_TBM2  US_TBM3\n",
            "STT                                ...                                          \n",
            "1    7.2  7.3  6.3  7.3  7.0  7.9  ...    K    K    K    2.800    3.016    2.804\n",
            "2    5.4  3.9  3.9  4.0  5.4  5.4  ...    Y   TB   TB    1.876    2.188    2.028\n",
            "3    5.6  6.8  7.2  7.5  4.3  7.4  ...   TB   TB   TB    2.308    2.152    2.416\n",
            "4    6.6  6.4  5.3  6.9  5.4  7.3  ...   TB   TB    K    2.484    2.080    2.752\n",
            "5    6.0  5.0  6.0  7.3  6.5  7.7  ...    K   TB    K    2.600    2.544    2.796\n",
            "..   ...  ...  ...  ...  ...  ...  ...  ...  ...  ...      ...      ...      ...\n",
            "96   8.6  6.9  7.4  8.8  7.6  5.8  ...    K    K    K    2.972    2.968    2.732\n",
            "97   3.7  5.4  6.0  5.1  5.5  3.9  ...    Y   TB   TB    1.972    2.060    2.556\n",
            "98   8.8  5.5  7.4  7.7  6.2  7.3  ...    K    K    K    2.820    3.136    3.068\n",
            "99   2.7  1.8  3.4  5.3  4.5  7.9  ...    Y    Y   TB    1.660    1.888    2.116\n",
            "100  4.1  5.2  4.9  5.3  5.5  5.4  ...   TB   TB   TB    2.104    2.288    2.340\n",
            "\n",
            "[100 rows x 64 columns]\n"
          ]
        }
      ]
    },
    {
      "cell_type": "markdown",
      "metadata": {
        "id": "g8nVKEyO5wCL"
      },
      "source": [
        "10.Tạo biến kết quả xét tuyển (kí hiệu là KQXT) nhằm xác định sinh viên đậu (giá trị \"1\") và rớt ( giá trị \"0\") vào các khối dựa trên điểm DH1, DH2 và DH3 như sau\n",
        "\n",
        "Với khối A, A1 nếu [(DH1*2 + DH2 + DH3)/4] lớn hơn hoặc bằng 5.0 thì đậu, ngược lại là rớt\n",
        "Với khối B nếu [(DH1 + DH2*2 + DH3)/4] lớn hơn hoặc bằng 5.0 thì đậu, ngược lại là rớt\n",
        "\n",
        "Với khối khác nếu [(DH1+ DH2 + DH3)/3] lớn hơn hoặc bằng 5.0 thì đậu, ngược lại là rớt"
      ]
    },
    {
      "cell_type": "code",
      "metadata": {
        "id": "4CcnKuSx5w5p"
      },
      "source": [
        "for i in df['KT']:\n",
        "  str(i)\n",
        "  df.loc[(i == 'A' or i == 'A1') & ((df['DH1'] * 2 + df['DH2'] + df['DH3']) / 4 >= 5.0), 'KQXT'] = 'đậu'\n",
        "  df.loc[(i == 'A' or i == 'Ađậu') & ((df['DH1'] * 2 + df['DH2'] + df['DH3']) / 4 < 5.0), 'KQXT'] = 'rớt'\n",
        "\n",
        "  df.loc[(i == 'B') & ((df['DH1'] + df['DH2'] * 2 + df['DH3']) / 4 >= 5.0), 'KQXT'] = 'đậu'\n",
        "  df.loc[(i == 'B') & ((df['DH1'] + df['DH2'] * 2 + df['DH3']) / 4 < 5.0), 'KQXT'] = 'rớt'\n",
        "          \n",
        "  df.loc[(i != 'B' or i != 'A' or i != 'A1') & ((df['DH1'] + df['DH2']+ df['DH3']) / 3 >= 5.0), 'KQXT'] = 'đậu'\n",
        "  df.loc[(i != 'B' or i != 'A' or i != 'A1') & ((df['DH1'] + df['DH2']+ df['DH3']) / 3 < 5.0), 'KQXT'] = 'rớt'"
      ],
      "execution_count": 42,
      "outputs": []
    },
    {
      "cell_type": "code",
      "metadata": {
        "colab": {
          "base_uri": "https://localhost:8080/"
        },
        "id": "Vu0QUVtz50fg",
        "outputId": "787ce2e6-83f1-41e1-e133-a57072d7730c"
      },
      "source": [
        "print(df)"
      ],
      "execution_count": 43,
      "outputs": [
        {
          "output_type": "stream",
          "name": "stdout",
          "text": [
            "      T1   L1   H1   S1   V1   X1  ...  XL2  XL3  US_TBM1  US_TBM2  US_TBM3  KQXT\n",
            "STT                                ...                                           \n",
            "1    7.2  7.3  6.3  7.3  7.0  7.9  ...    K    K    2.800    3.016    2.804   rớt\n",
            "2    5.4  3.9  3.9  4.0  5.4  5.4  ...   TB   TB    1.876    2.188    2.028   rớt\n",
            "3    5.6  6.8  7.2  7.5  4.3  7.4  ...   TB   TB    2.308    2.152    2.416   đậu\n",
            "4    6.6  6.4  5.3  6.9  5.4  7.3  ...   TB    K    2.484    2.080    2.752   rớt\n",
            "5    6.0  5.0  6.0  7.3  6.5  7.7  ...   TB    K    2.600    2.544    2.796   rớt\n",
            "..   ...  ...  ...  ...  ...  ...  ...  ...  ...      ...      ...      ...   ...\n",
            "96   8.6  6.9  7.4  8.8  7.6  5.8  ...    K    K    2.972    2.968    2.732   rớt\n",
            "97   3.7  5.4  6.0  5.1  5.5  3.9  ...   TB   TB    1.972    2.060    2.556   rớt\n",
            "98   8.8  5.5  7.4  7.7  6.2  7.3  ...    K    K    2.820    3.136    3.068   đậu\n",
            "99   2.7  1.8  3.4  5.3  4.5  7.9  ...    Y   TB    1.660    1.888    2.116   rớt\n",
            "100  4.1  5.2  4.9  5.3  5.5  5.4  ...   TB   TB    2.104    2.288    2.340   rớt\n",
            "\n",
            "[100 rows x 65 columns]\n"
          ]
        }
      ]
    },
    {
      "cell_type": "markdown",
      "metadata": {
        "id": "DDq_MtMd53Gp"
      },
      "source": [
        "11.Lưu trữ dữ liệu xuống ổ đĩa thành file processed_dulieuxettuyendaihoc.csv"
      ]
    },
    {
      "cell_type": "code",
      "metadata": {
        "colab": {
          "base_uri": "https://localhost:8080/"
        },
        "id": "r2ZZScKX536X",
        "outputId": "af064869-fb0c-4601-e244-a03ec11f6a83"
      },
      "source": [
        "from google.colab import drive\n",
        "drive.mount('/drive')"
      ],
      "execution_count": 44,
      "outputs": [
        {
          "output_type": "stream",
          "name": "stdout",
          "text": [
            "Drive already mounted at /drive; to attempt to forcibly remount, call drive.mount(\"/drive\", force_remount=True).\n"
          ]
        }
      ]
    }
  ]
}